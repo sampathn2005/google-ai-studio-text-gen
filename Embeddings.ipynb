{
  "nbformat": 4,
  "nbformat_minor": 0,
  "metadata": {
    "colab": {
      "provenance": [],
      "include_colab_link": true
    },
    "kernelspec": {
      "name": "python3",
      "display_name": "Python 3"
    },
    "language_info": {
      "name": "python"
    }
  },
  "cells": [
    {
      "cell_type": "markdown",
      "metadata": {
        "id": "view-in-github",
        "colab_type": "text"
      },
      "source": [
        "<a href=\"https://colab.research.google.com/github/sampathn2005/google-ai-studio-text-gen/blob/main/Embeddings.ipynb\" target=\"_parent\"><img src=\"https://colab.research.google.com/assets/colab-badge.svg\" alt=\"Open In Colab\"/></a>"
      ]
    },
    {
      "cell_type": "markdown",
      "source": [
        "#Generate embeddings"
      ],
      "metadata": {
        "id": "_f4Qh7EPQyVt"
      }
    },
    {
      "cell_type": "code",
      "execution_count": 1,
      "metadata": {
        "colab": {
          "base_uri": "https://localhost:8080/"
        },
        "id": "i0NN2_TyQF9C",
        "outputId": "1a10d479-12bb-414f-93f9-9b9b58b69262"
      },
      "outputs": [
        {
          "output_type": "stream",
          "name": "stdout",
          "text": [
            "[ContentEmbedding(\n",
            "  values=[\n",
            "    -0.010632273,\n",
            "    0.019375853,\n",
            "    0.020965198,\n",
            "    0.0007706437,\n",
            "    -0.061464068,\n",
            "    <... 763 more items ...>,\n",
            "  ]\n",
            ")]\n"
          ]
        }
      ],
      "source": [
        "from google import genai\n",
        "from google.genai import types\n",
        "\n",
        "client = genai.Client(api_key=\"AIzaSyA_YOH0-UZl34pNjrh_TPrWSLSmhqvgQGA123\")\n",
        "\n",
        "result = client.models.embed_content(\n",
        "        model=\"text-embedding-004\",\n",
        "        contents=\"What is the meaning of life?\")\n",
        "\n",
        "print(result.embeddings)"
      ]
    },
    {
      "cell_type": "code",
      "source": [],
      "metadata": {
        "id": "YSniPdClQ7-F"
      },
      "execution_count": null,
      "outputs": []
    }
  ]
}