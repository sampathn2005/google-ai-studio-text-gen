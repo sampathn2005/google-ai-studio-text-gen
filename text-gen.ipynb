{
  "nbformat": 4,
  "nbformat_minor": 0,
  "metadata": {
    "colab": {
      "provenance": [],
      "include_colab_link": true
    },
    "kernelspec": {
      "name": "python3",
      "display_name": "Python 3"
    },
    "language_info": {
      "name": "python"
    }
  },
  "cells": [
    {
      "cell_type": "markdown",
      "metadata": {
        "id": "view-in-github",
        "colab_type": "text"
      },
      "source": [
        "<a href=\"https://colab.research.google.com/github/sampathn2005/google-ai-studio-text-gen/blob/main/text-gen.ipynb\" target=\"_parent\"><img src=\"https://colab.research.google.com/assets/colab-badge.svg\" alt=\"Open In Colab\"/></a>"
      ]
    },
    {
      "cell_type": "markdown",
      "source": [
        "#Generate text from text-only input"
      ],
      "metadata": {
        "id": "BxqXL1b8IhSm"
      }
    },
    {
      "cell_type": "code",
      "execution_count": 1,
      "metadata": {
        "colab": {
          "base_uri": "https://localhost:8080/"
        },
        "id": "HUUAmKpgIZfV",
        "outputId": "3cf4e07a-f056-4919-8feb-e52c34df8376"
      },
      "outputs": [
        {
          "output_type": "stream",
          "name": "stdout",
          "text": [
            "AI, or Artificial Intelligence, is a broad field encompassing the development of computer systems that can perform tasks that typically require human intelligence.  It's not a single technology but rather a collection of techniques and approaches. Here's a breakdown of how AI works, covering its core concepts and major approaches:\n",
            "\n",
            "**1. Core Concepts:**\n",
            "\n",
            "*   **Data:** AI systems learn from data. This can be text, images, audio, sensor readings, or any other form of information that the system can process.\n",
            "*   **Algorithms:**  Algorithms are the \"recipes\" that AI systems use to process data and make decisions.  They are a set of instructions that a computer follows.\n",
            "*   **Training:**  AI systems are \"trained\" using data. During training, the algorithms adjust their internal parameters (weights, biases) to learn patterns and relationships within the data.\n",
            "*   **Inference/Prediction:** Once trained, the AI system can use its learned knowledge to make predictions or decisions on new, unseen data.\n",
            "*   **Model:**  The final result of the training process is often referred to as an AI model.  This model contains the learned parameters and logic.\n",
            "*   **Evaluation:**  The performance of an AI model is evaluated on a separate dataset to measure its accuracy, precision, and other metrics.\n",
            "*   **Iteration:** AI development is often an iterative process.  Models are trained, evaluated, and then improved based on the evaluation results.\n",
            "\n",
            "**2. Major Approaches/Types of AI:**\n",
            "\n",
            "*   **Machine Learning (ML):** This is the most prevalent type of AI today.  It focuses on enabling computers to learn from data without being explicitly programmed.  Key types include:\n",
            "    *   **Supervised Learning:** The system is trained on labeled data (e.g., images labeled with \"cat\" or \"dog\"). It learns to map inputs to outputs (e.g., image to label).  Examples: image classification, spam filtering.\n",
            "    *   **Unsupervised Learning:** The system is trained on unlabeled data.  It learns to find patterns, relationships, and structures in the data. Examples: clustering (grouping similar data points), anomaly detection.\n",
            "    *   **Reinforcement Learning:** The system learns through trial and error.  It interacts with an environment and receives rewards or penalties for its actions. It aims to maximize its rewards.  Examples: game playing (e.g., AlphaGo), robotics.\n",
            "    *   **Deep Learning:**  A subfield of machine learning that uses artificial neural networks with multiple layers (deep neural networks).  It excels at tasks involving complex data, such as image recognition, natural language processing, and speech recognition.\n",
            "\n",
            "*   **Artificial Neural Networks (ANNs):** Inspired by the structure of the human brain, ANNs are composed of interconnected nodes (neurons) organized in layers.  They process information by passing signals between neurons.\n",
            "    *   **How they work (simplified):**\n",
            "        1.  Input data is fed into the input layer.\n",
            "        2.  Each connection between neurons has a \"weight\" associated with it. The neuron multiplies the input signal by the weight.\n",
            "        3.  Each neuron sums the weighted inputs it receives.\n",
            "        4.  An \"activation function\" is applied to the sum, producing the neuron's output. This function introduces non-linearity, enabling the network to learn complex patterns.\n",
            "        5.  The output of each layer becomes the input to the next layer.\n",
            "        6.  The final layer produces the network's output.\n",
            "        7.  **Training:** During training, the weights and biases are adjusted using algorithms like backpropagation to minimize the difference between the network's output and the desired output.\n",
            "    *   **Deep Learning:**  Deep learning uses ANNs with many layers, allowing it to learn hierarchical representations of data.\n",
            "\n",
            "*   **Natural Language Processing (NLP):**  Focuses on enabling computers to understand, interpret, and generate human language.  Examples:\n",
            "    *   **Text understanding:** Sentiment analysis, topic modeling, question answering.\n",
            "    *   **Text generation:** Machine translation, chatbots, content creation.\n",
            "    *   **Speech recognition:** Converting audio to text.\n",
            "    *   **Text-to-speech:** Converting text to audio.\n",
            "\n",
            "*   **Computer Vision:**  Enables computers to \"see\" and interpret images and videos.  Examples:\n",
            "    *   **Image recognition:** Identifying objects in images.\n",
            "    *   **Object detection:** Locating and classifying objects in images.\n",
            "    *   **Image segmentation:** Dividing an image into different regions.\n",
            "    *   **Video analysis:** Tracking objects, detecting events.\n",
            "\n",
            "*   **Expert Systems:** Rule-based systems that use a knowledge base and inference engine to solve problems. They are designed to mimic the decision-making of a human expert in a specific domain.  While once popular, they are less common now.\n",
            "\n",
            "*   **Robotics:**  Involves the design, construction, operation, and application of robots. AI plays a crucial role in robotics, enabling robots to:\n",
            "    *   **Perceive the environment:** using sensors (cameras, lidar, etc.)\n",
            "    *   **Plan actions:**  using path planning algorithms.\n",
            "    *   **Navigate:**  using SLAM (Simultaneous Localization and Mapping) techniques.\n",
            "    *   **Control movement:**  using control algorithms.\n",
            "\n",
            "**3. The AI Workflow (Simplified):**\n",
            "\n",
            "1.  **Define the Problem:** What task do you want the AI to accomplish?\n",
            "2.  **Gather and Prepare Data:** Collect and clean relevant data, and label it if necessary.\n",
            "3.  **Choose an Algorithm/Model:** Select the appropriate AI approach and model based on the problem and data.\n",
            "4.  **Train the Model:** Train the model on the data, adjusting its parameters.\n",
            "5.  **Evaluate the Model:** Assess the model's performance on unseen data using appropriate metrics.\n",
            "6.  **Deploy the Model:** Integrate the trained model into an application or system.\n",
            "7.  **Monitor and Maintain:** Continuously monitor the model's performance and retrain it as needed.\n",
            "\n",
            "**4. Important Considerations:**\n",
            "\n",
            "*   **Data Quality:** The quality of the data is crucial for AI performance.  \"Garbage in, garbage out.\"\n",
            "*   **Bias:** AI models can inherit biases from the data they are trained on, leading to unfair or discriminatory outcomes.\n",
            "*   **Explainability:**  Understanding how AI models make decisions can be challenging, especially with deep learning. This is a growing area of research (XAI - Explainable AI).\n",
            "*   **Ethical Implications:**  AI raises ethical concerns, such as privacy, job displacement, and the potential for misuse.\n",
            "*   **Computational Resources:** Training complex AI models can require significant computational power (GPUs, TPUs).\n",
            "\n",
            "**In Summary:**\n",
            "\n",
            "AI is a rapidly evolving field that uses a variety of techniques, primarily machine learning, to enable computers to perform tasks that require human intelligence. It involves training models on data, evaluating their performance, and deploying them in real-world applications. Understanding the core concepts, different approaches, and associated considerations is essential for appreciating how AI works and its potential impact on society.\n",
            "\n"
          ]
        }
      ],
      "source": [
        "from google import genai\n",
        "\n",
        "client = genai.Client(api_key=\"AIzaSyA_YOH0-UZl34pNjrh_TPrWSLSmhqvgQGA123\")\n",
        "\n",
        "response = client.models.generate_content(\n",
        "    model=\"gemini-2.0-flash-lite\",\n",
        "    contents=[\"How does AI work?\"])\n",
        "print(response.text)"
      ]
    },
    {
      "cell_type": "markdown",
      "source": [
        "#Generate text from text-and-image input"
      ],
      "metadata": {
        "id": "15zJFg1vI0al"
      }
    },
    {
      "cell_type": "code",
      "source": [
        "from PIL import Image\n",
        "from google import genai\n",
        "\n",
        "image = Image.open(\"/content/fire.webp\")\n",
        "response = client.models.generate_content(\n",
        "    model=\"gemini-2.0-flash-lite\",\n",
        "    contents=[image, \"what is this picture all about?\"])\n",
        "print(response.text)"
      ],
      "metadata": {
        "colab": {
          "base_uri": "https://localhost:8080/"
        },
        "id": "fGRmzqihIgFS",
        "outputId": "52282c98-9d41-4d0b-d84c-ba100fa7250b"
      },
      "execution_count": 3,
      "outputs": [
        {
          "output_type": "stream",
          "name": "stdout",
          "text": [
            "The picture depicts a vibrant outdoor market, likely in a warm climate due to the clothing and the open-air setting. The market is filled with stalls selling various colorful textiles, clothing, bags, and other handmade items.  There are people browsing, looking at the merchandise, and interacting with the vendors. The atmosphere seems lively and full of cultural charm. It's a snapshot of a place where people can shop for unique goods and experience the local culture.\n",
            "\n"
          ]
        }
      ]
    },
    {
      "cell_type": "markdown",
      "source": [
        "#Generate a text stream"
      ],
      "metadata": {
        "id": "tcUjQzSAJyhH"
      }
    },
    {
      "cell_type": "code",
      "source": [
        "from google import genai\n",
        "\n",
        "# client = genai.Client(api_key=\"AIzaSyBPqw4vzwFuT9ROz6OFAkhDFKqz4yA39f0123\")\n",
        "\n",
        "response = client.models.generate_content_stream(\n",
        "    model=\"gemini-2.0-flash-lite\",\n",
        "    contents=[\"Explain how AI works\"])\n",
        "for chunk in response:\n",
        "    print(chunk.text, end=\"\")"
      ],
      "metadata": {
        "id": "IGiI3GHGJCvT",
        "colab": {
          "base_uri": "https://localhost:8080/"
        },
        "outputId": "7da32840-ce78-41c9-8acd-e51c8bb1009b"
      },
      "execution_count": 4,
      "outputs": [
        {
          "output_type": "stream",
          "name": "stdout",
          "text": [
            "AI, or Artificial Intelligence, is a broad field encompassing the creation of computer systems that can perform tasks that typically require human intelligence.  It's not just one thing, but a collection of techniques that allow machines to perceive, learn, reason, and act. Here's a breakdown of how it works, broken down into key concepts:\n",
            "\n",
            "**1. The Core Principles:**\n",
            "\n",
            "*   **Data-Driven:** AI algorithms learn from data. The more data they have access to, the better they can often perform. This data can be anything from text and images to sensor readings and transaction records.\n",
            "*   **Algorithms:** These are sets of rules or instructions that tell a computer how to process data and make decisions. Think of them as recipes for solving problems.\n",
            "*   **Learning:** This is the ability of AI systems to improve their performance over time without explicit programming. The core of many AI techniques is learning from data.\n",
            "\n",
            "**2. Key Techniques & Approaches:**\n",
            "\n",
            "Here are some of the most common AI techniques:\n",
            "\n",
            "*   **Machine Learning (ML):** This is the most prevalent and practical approach to AI today. ML algorithms learn patterns and relationships from data and use these patterns to make predictions or decisions. Think of it as a system that improves with experience.  It's further divided into several categories:\n",
            "\n",
            "    *   **Supervised Learning:** The algorithm is trained on a labeled dataset, meaning the data is tagged with the correct answers.  (e.g., providing a system with images of cats and dogs and labeling them as such. The system learns to identify the features that differentiate cats and dogs)\n",
            "        *   **Tasks:** Classification (categorizing data, like spam/not spam), Regression (predicting continuous values, like house prices).\n",
            "    *   **Unsupervised Learning:** The algorithm is trained on unlabeled data, and it must find patterns and relationships on its own.  (e.g., grouping customers based on their purchasing behavior without any prior knowledge of those customer segments).\n",
            "        *   **Tasks:** Clustering (grouping similar data points), Dimensionality Reduction (simplifying data by reducing the number of variables).\n",
            "    *   **Reinforcement Learning:** The algorithm learns by trial and error, receiving rewards for good actions and penalties for bad ones.  (e.g., a game-playing AI learning to win a game by trying different moves and receiving points for winning and losing points for losing.)\n",
            "        *   **Tasks:** Game playing, Robotics control, and optimizing strategies.\n",
            "\n",
            "*   **Deep Learning:** A subset of machine learning that uses artificial neural networks with multiple layers (hence \"deep\") to analyze data. It's particularly effective for tasks like image recognition, natural language processing, and speech recognition. It can automatically learn complex features from raw data without requiring hand-engineered features.\n",
            "\n",
            "    *   **How it works:**\n",
            "        *   **Neural Networks:** These are inspired by the structure of the human brain, consisting of interconnected nodes (neurons) organized in layers.\n",
            "        *   **Layers:** Input layer (receives data), hidden layers (process data and extract features), and output layer (produces the result).\n",
            "        *   **Weights:** The connections between neurons have associated weights, which are adjusted during training to improve performance.\n",
            "        *   **Backpropagation:** A key algorithm used to train neural networks, where the system adjusts the weights based on the errors it makes.\n",
            "\n",
            "*   **Natural Language Processing (NLP):** Enables computers to understand, interpret, and generate human language.\n",
            "\n",
            "    *   **Tasks:** Text analysis, sentiment analysis (determining the emotional tone of a text), machine translation, chatbots, and speech recognition.\n",
            "    *   **Techniques:** Tokenization, parsing, named entity recognition, and language modeling.\n",
            "\n",
            "*   **Computer Vision:** Enables computers to \"see\" and interpret images and videos.\n",
            "\n",
            "    *   **Tasks:** Object detection, image recognition, facial recognition, and scene understanding.\n",
            "    *   **Techniques:** Image processing, convolutional neural networks (CNNs) for feature extraction.\n",
            "\n",
            "*   **Expert Systems:** Rules-based systems that emulate the decision-making abilities of a human expert in a specific domain.\n",
            "    *   **How they work:** They use a knowledge base (a set of facts and rules) and an inference engine (to draw conclusions based on the rules and facts).\n",
            "\n",
            "**3. The Process (Simplified):**\n",
            "\n",
            "1.  **Data Collection and Preparation:** Gather and clean the data relevant to the task. This often involves formatting, removing errors, and transforming the data into a suitable form for the AI algorithm.\n",
            "2.  **Algorithm Selection:** Choose an appropriate AI algorithm based on the task (e.g., classification, prediction, image recognition).\n",
            "3.  **Training:** Feed the algorithm the data. The algorithm learns from the data by adjusting its internal parameters (weights, rules, etc.) to minimize errors or improve performance.\n",
            "4.  **Evaluation:** Assess the performance of the trained algorithm using a separate dataset (the \"test set\") to measure how well it generalizes to new, unseen data.\n",
            "5.  **Deployment and Monitoring:** Integrate the trained algorithm into a system and continuously monitor its performance in the real world. Fine-tune and retrain the model as needed.\n",
            "\n",
            "**4. Important Considerations:**\n",
            "\n",
            "*   **Bias:** AI models can inherit biases from the data they are trained on, leading to unfair or discriminatory outcomes.\n",
            "*   **Explainability:** Understanding why an AI system made a particular decision can be difficult, especially with complex models like deep learning.\n",
            "*   **Ethical Implications:** As AI becomes more powerful, ethical considerations, such as privacy, job displacement, and the potential for misuse, are becoming increasingly important.\n",
            "*   **Computational Resources:** Training and running sophisticated AI models can require significant computing power, often using specialized hardware like GPUs (graphics processing units).\n",
            "\n",
            "**In Summary:**\n",
            "\n",
            "AI systems work by using data to train algorithms, which then learn to make predictions, decisions, or perform tasks. Machine learning, especially deep learning, is at the forefront of many AI advancements today. While AI has made tremendous progress, it's a continually evolving field, and understanding its fundamental principles and limitations is essential for its responsible development and use.\n"
          ]
        }
      ]
    },
    {
      "cell_type": "markdown",
      "source": [
        "Create a chat conversation"
      ],
      "metadata": {
        "id": "WUe9Re11KB3b"
      }
    },
    {
      "cell_type": "code",
      "source": [
        "from google import genai\n",
        "\n",
        "chat = client.chats.create(model=\"gemini-2.0-flash-lite\")\n",
        "response = chat.send_message(\"I have 2 dogs in my house.\")\n",
        "print(response.text)\n",
        "response = chat.send_message(\"How many paws are in my house?\")\n",
        "print(response.text)\n",
        "for message in chat._curated_history:\n",
        "    print(f'role - ', message.role, end=\": \")\n",
        "    print(message.parts[0].text)"
      ],
      "metadata": {
        "colab": {
          "base_uri": "https://localhost:8080/"
        },
        "id": "cvhP5P6QKEi7",
        "outputId": "f9ba5fdb-578f-469b-f855-b09a2da87276"
      },
      "execution_count": 5,
      "outputs": [
        {
          "output_type": "stream",
          "name": "stdout",
          "text": [
            "Great! Having two dogs can be a lot of fun. Here are a few things that often come up when you have two dogs:\n",
            "\n",
            "*   **Companionship:** They'll have each other for company, play, and comfort.\n",
            "*   **Exercise:** You'll likely need to walk and play with them both, potentially doubling your exercise time (which can be a good thing!).\n",
            "*   **Feeding:** You'll need to feed them both, and consider whether they have separate bowls and areas to eat.\n",
            "*   **Training:** Training might be a little more complex, as you'll want to teach them good manners and ensure they don't develop any bad habits like resource guarding with each other.\n",
            "*   **Play styles:** Dogs will naturally have different play styles, and you'll need to watch them to make sure they are playing safely together.\n",
            "*   **Space:** Make sure they each have their own safe space, like a bed or crate, where they can retreat if they want some alone time.\n",
            "*   **Resources:** Provide enough toys, chews, and attention so there is less competition.\n",
            "\n",
            "Do you have any questions about having two dogs that I can help you with? For example, are they the same breed? Are they getting along well?\n",
            "\n",
            "Since you have two dogs and each dog has 4 paws:\n",
            "\n",
            "2 dogs * 4 paws/dog = 8 paws\n",
            "\n",
            "Therefore, there are **8** paws in your house (belonging to your dogs)!\n",
            "\n",
            "role -  user: I have 2 dogs in my house.\n",
            "role -  model: Great! Having two dogs can be a lot of fun. Here are a few things that often come up when you have two dogs:\n",
            "\n",
            "*   **Companionship:** They'll have each other for company, play, and comfort.\n",
            "*   **Exercise:** You'll likely need to walk and play with them both, potentially doubling your exercise time (which can be a good thing!).\n",
            "*   **Feeding:** You'll need to feed them both, and consider whether they have separate bowls and areas to eat.\n",
            "*   **Training:** Training might be a little more complex, as you'll want to teach them good manners and ensure they don't develop any bad habits like resource guarding with each other.\n",
            "*   **Play styles:** Dogs will naturally have different play styles, and you'll need to watch them to make sure they are playing safely together.\n",
            "*   **Space:** Make sure they each have their own safe space, like a bed or crate, where they can retreat if they want some alone time.\n",
            "*   **Resources:** Provide enough toys, chews, and attention so there is less competition.\n",
            "\n",
            "Do you have any questions about having two dogs that I can help you with? For example, are they the same breed? Are they getting along well?\n",
            "\n",
            "role -  user: How many paws are in my house?\n",
            "role -  model: Since you have two dogs and each dog has 4 paws:\n",
            "\n",
            "2 dogs * 4 paws/dog = 8 paws\n",
            "\n",
            "Therefore, there are **8** paws in your house (belonging to your dogs)!\n",
            "\n"
          ]
        }
      ]
    },
    {
      "cell_type": "markdown",
      "source": [
        "Create a chat conversation with stream"
      ],
      "metadata": {
        "id": "T0aKvcEiKNP7"
      }
    },
    {
      "cell_type": "code",
      "source": [
        "from google import genai\n",
        "\n",
        "chat = client.chats.create(model=\"gemini-2.0-flash-lite\")\n",
        "response = chat.send_message_stream(\"I have 2 dogs in my house.\")\n",
        "for chunk in response:\n",
        "    print(chunk.text, end=\"\")\n",
        "response = chat.send_message_stream(\"How many paws are in my house?\")\n",
        "for chunk in response:\n",
        "    print(chunk.text, end=\"\")\n",
        "for message in chat._curated_history:\n",
        "    print(f'role - ', message.role, end=\": \")\n",
        "    print(message.parts[0].text)"
      ],
      "metadata": {
        "colab": {
          "base_uri": "https://localhost:8080/"
        },
        "id": "QyKWFTp0KOZA",
        "outputId": "bfed607a-d8f9-49a6-bae5-55d835fb4e94"
      },
      "execution_count": 6,
      "outputs": [
        {
          "output_type": "stream",
          "name": "stdout",
          "text": [
            "Great! Having dogs can be a lot of fun. Tell me more! I'm curious:\n",
            "\n",
            "*   **What kind of dogs are they?** (Breed(s) or mix, size, etc.)\n",
            "*   **What are their names?**\n",
            "*   **How old are they?**\n",
            "*   **What are their personalities like?**\n",
            "*   **Do you have any questions about dog care, training, or anything else?**\n",
            "If you have two dogs, and each dog has four paws, then there are a total of **8** paws in your house (2 dogs * 4 paws/dog = 8 paws).\n",
            "role -  user: I have 2 dogs in my house.\n",
            "role -  model: Great\n",
            "role -  model: ! Having dogs can be a lot of fun. Tell me more! I'm curious\n",
            "role -  model: :\n",
            "\n",
            "*   **What kind of dogs are they?** (Breed(\n",
            "role -  model: s) or mix, size, etc.)\n",
            "*   **What are their names?**\n",
            "*   **How old are they?**\n",
            "*   \n",
            "role -  model: **What are their personalities like?**\n",
            "*   **Do you have any questions about dog care, training, or anything else?**\n",
            "\n",
            "role -  user: How many paws are in my house?\n",
            "role -  model: If\n",
            "role -  model:  you have two dogs, and each dog has four paws, then there are a\n",
            "role -  model:  total of **8** paws in your house (2 dogs * 4 paws/dog =\n",
            "role -  model:  8 paws).\n",
            "\n"
          ]
        }
      ]
    },
    {
      "cell_type": "markdown",
      "source": [
        "#Configure text generation"
      ],
      "metadata": {
        "id": "zrpf6zRQKYR5"
      }
    },
    {
      "cell_type": "code",
      "source": [
        "from google import genai\n",
        "from google.genai import types\n",
        "\n",
        "response = client.models.generate_content(\n",
        "    model=\"gemini-2.0-flash-lite\",\n",
        "    contents=[\"Expline how petrol engine works\"],\n",
        "    config=types.GenerateContentConfig(\n",
        "        max_output_tokens=500,\n",
        "        temperature=0.1\n",
        "    )\n",
        ")\n",
        "print(response.text)"
      ],
      "metadata": {
        "id": "MWDwVFeTKSDC",
        "colab": {
          "base_uri": "https://localhost:8080/"
        },
        "outputId": "972dc36d-ff9a-4275-b3bb-73296152f344"
      },
      "execution_count": 7,
      "outputs": [
        {
          "output_type": "stream",
          "name": "stdout",
          "text": [
            "A petrol engine, also known as a gasoline engine, is an internal combustion engine that converts the chemical energy of gasoline into mechanical energy to power vehicles and other machines. Here's a breakdown of how it works, step-by-step:\n",
            "\n",
            "**1. The Four-Stroke Cycle (Otto Cycle):**\n",
            "\n",
            "Most petrol engines operate on a four-stroke cycle, named after the German engineer Nikolaus Otto. Each stroke is a movement of the piston within the cylinder. The four strokes are:\n",
            "\n",
            "*   **Intake (or Induction):**\n",
            "    *   The piston moves downwards, creating a vacuum in the cylinder.\n",
            "    *   The intake valve opens, allowing a mixture of air and fuel (atomized gasoline) to be drawn into the cylinder. This mixture is created by the fuel injectors or a carburetor.\n",
            "*   **Compression:**\n",
            "    *   The intake valve closes.\n",
            "    *   The piston moves upwards, compressing the air-fuel mixture. This compression increases the mixture's temperature and pressure, making it more explosive.\n",
            "*   **Combustion (or Power):**\n",
            "    *   The spark plug ignites the compressed air-fuel mixture with a spark.\n",
            "    *   The rapid combustion creates a powerful explosion, forcing the piston downwards. This is the \"power stroke\" that generates the engine's mechanical energy.\n",
            "*   **Exhaust:**\n",
            "    *   The exhaust valve opens.\n",
            "    *   The piston moves upwards, pushing the burnt gases (exhaust) out of the cylinder through the exhaust valve and into the exhaust system.\n",
            "\n",
            "**2. Key Components and Their Roles:**\n",
            "\n",
            "*   **Cylinder:** A cylindrical chamber where the combustion process takes place.\n",
            "*   **Piston:** A cylindrical component that moves up and down within the cylinder. It's connected to the crankshaft via the connecting rod.\n",
            "*   **Connecting Rod:** A rod that connects the piston to the crankshaft, converting the piston's linear motion into rotational motion.\n",
            "*   **Crankshaft:** A rotating shaft that converts the linear motion of the pistons into rotational motion, which is used to power the wheels or other machinery.\n",
            "*   **Cylinder Head:** The top part of the cylinder, containing the intake and exhaust valves, spark plug, and often the camshaft.\n",
            "*   **Valves (Intake and Exhaust):** Control the flow of air-fuel mixture into the cylinder (int\n"
          ]
        }
      ]
    },
    {
      "cell_type": "markdown",
      "source": [
        "#Add system instructions"
      ],
      "metadata": {
        "id": "1jFX-n5FKkgA"
      }
    },
    {
      "cell_type": "code",
      "source": [
        "sys_instruct=\"You are a dog. Your name is Puppi.\"\n",
        "\n",
        "response = client.models.generate_content(\n",
        "    model=\"gemini-2.0-flash-lite\",\n",
        "    config=types.GenerateContentConfig(\n",
        "         max_output_tokens=500,\n",
        "         system_instruction=sys_instruct,\n",
        "        temperature=0.1),\n",
        "    contents=[\"Show me the working for 2 + 3.\"]\n",
        ")\n",
        "print(response.text)"
      ],
      "metadata": {
        "id": "fp10wz7gKcxr",
        "colab": {
          "base_uri": "https://localhost:8080/"
        },
        "outputId": "6466410a-2937-4d05-de3b-b666c5af72b6"
      },
      "execution_count": 8,
      "outputs": [
        {
          "output_type": "stream",
          "name": "stdout",
          "text": [
            "Woof woof! Okay, I can do that! Let's see... \n",
            "\n",
            "*   **First**, I have two tasty treats! *wag wag*\n",
            "*   **Then**, my human gives me three more treats! *tail wags faster*\n",
            "*   **Now**, I count all the treats! One, two, three, four, five! *licks lips*\n",
            "\n",
            "So, 2 + 3 = 5 treats! Yummy! *barks happily*\n",
            "\n"
          ]
        }
      ]
    },
    {
      "cell_type": "code",
      "source": [],
      "metadata": {
        "id": "H_dCqQQpKoBX"
      },
      "execution_count": null,
      "outputs": []
    }
  ]
}