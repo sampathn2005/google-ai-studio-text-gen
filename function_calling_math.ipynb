{
  "nbformat": 4,
  "nbformat_minor": 0,
  "metadata": {
    "colab": {
      "provenance": [],
      "include_colab_link": true
    },
    "kernelspec": {
      "name": "python3",
      "display_name": "Python 3"
    },
    "language_info": {
      "name": "python"
    }
  },
  "cells": [
    {
      "cell_type": "markdown",
      "metadata": {
        "id": "view-in-github",
        "colab_type": "text"
      },
      "source": [
        "<a href=\"https://colab.research.google.com/github/sampathn2005/google-ai-studio-text-gen/blob/main/function_calling_math.ipynb\" target=\"_parent\"><img src=\"https://colab.research.google.com/assets/colab-badge.svg\" alt=\"Open In Colab\"/></a>"
      ]
    },
    {
      "cell_type": "markdown",
      "source": [
        " # Importing Necessary Libraries"
      ],
      "metadata": {
        "id": "71mzdCNqWR0R"
      }
    },
    {
      "cell_type": "code",
      "source": [
        "import os\n",
        "import google.generativeai as genai"
      ],
      "metadata": {
        "id": "8N3K3yc_SCGr"
      },
      "execution_count": 1,
      "outputs": []
    },
    {
      "cell_type": "markdown",
      "source": [
        "## API Key Setup"
      ],
      "metadata": {
        "id": "nd-rRz-iWcKg"
      }
    },
    {
      "cell_type": "code",
      "source": [
        "# Configure Gemini API\n",
        "GOOGLE_API_KEY = \"AIzaSyA_YOH0-UZl34pNjrh_TPrWSLSmhqvgQGA123\"  # Replace with your actual API key\n",
        "os.environ[\"GOOGLE_API_KEY\"] = GOOGLE_API_KEY"
      ],
      "metadata": {
        "id": "19FioBCpSJqz"
      },
      "execution_count": 2,
      "outputs": []
    },
    {
      "cell_type": "markdown",
      "source": [
        "## Configuring Gemini API"
      ],
      "metadata": {
        "id": "RnZzWom4WhNX"
      }
    },
    {
      "cell_type": "code",
      "source": [
        "def configure_gemini():\n",
        "    \"\"\"Configures the Gemini API.\"\"\"\n",
        "    if not GOOGLE_API_KEY or GOOGLE_API_KEY == \"YOUR_GOOGLE_AI_STUDIO_API_KEY\":\n",
        "        print(\"Error: Please set your GOOGLE_API_KEY.\")\n",
        "        return False\n",
        "    try:\n",
        "        genai.configure(api_key=GOOGLE_API_KEY)\n",
        "        return True\n",
        "    except Exception as e:\n",
        "        print(f\"Error configuring Gemini API: {e}\")\n",
        "        return False\n",
        "\n",
        "if not configure_gemini():\n",
        "    exit()"
      ],
      "metadata": {
        "id": "5AKsfMh_SN5g"
      },
      "execution_count": 3,
      "outputs": []
    },
    {
      "cell_type": "markdown",
      "source": [
        "## Defining the Model Name"
      ],
      "metadata": {
        "id": "m5vz5czCWoEX"
      }
    },
    {
      "cell_type": "code",
      "source": [
        "MODEL_NAME = \"gemini-1.5-pro-latest\""
      ],
      "metadata": {
        "id": "X0MBNF5hSPR0"
      },
      "execution_count": 4,
      "outputs": []
    },
    {
      "cell_type": "markdown",
      "source": [
        "## Defining the Math Function"
      ],
      "metadata": {
        "id": "l4FLT_y8Wrf5"
      }
    },
    {
      "cell_type": "code",
      "source": [
        "# Define the function to perform addition and subtraction\n",
        "def calculate(operation: str, num1: float, num2: float) -> float:\n",
        "    \"\"\"Performs addition or subtraction.\"\"\"\n",
        "    if operation == \"add\":\n",
        "        return num1 + num2\n",
        "    elif operation == \"subtract\":\n",
        "        return num1 - num2\n",
        "    else:\n",
        "        return \"Invalid operation\""
      ],
      "metadata": {
        "id": "-ujN4VrHSR17"
      },
      "execution_count": 5,
      "outputs": []
    },
    {
      "cell_type": "markdown",
      "source": [
        "## Defining the Function Declaration for Gemini"
      ],
      "metadata": {
        "id": "JH8gH2WwWvPf"
      }
    },
    {
      "cell_type": "code",
      "source": [
        "# Define function declaration\n",
        "math_function_declaration = genai.types.FunctionDeclaration(\n",
        "    name=\"calculate\",\n",
        "    description=\"Performs addition or subtraction.\",\n",
        "    parameters={\n",
        "        \"type\": \"object\",\n",
        "        \"properties\": {\n",
        "            \"operation\": {\"type\": \"string\", \"description\": \"The operation to perform: 'add' or 'subtract'.\"},\n",
        "            \"num1\": {\"type\": \"number\", \"description\": \"The first number.\"},\n",
        "            \"num2\": {\"type\": \"number\", \"description\": \"The second number.\"}\n",
        "        },\n",
        "        \"required\": [\"operation\", \"num1\", \"num2\"]\n",
        "    }\n",
        ")\n"
      ],
      "metadata": {
        "id": "D6rJ__Y0SSwE"
      },
      "execution_count": 6,
      "outputs": []
    },
    {
      "cell_type": "markdown",
      "source": [
        "## Creating the Model with Function Support"
      ],
      "metadata": {
        "id": "9NdnWg6XWzIw"
      }
    },
    {
      "cell_type": "code",
      "source": [
        "# Create model with function support\n",
        "model = genai.GenerativeModel(MODEL_NAME, tools=[math_function_declaration])\n",
        "chat_session = model.start_chat()"
      ],
      "metadata": {
        "id": "SvmuH5h1SU8j"
      },
      "execution_count": 7,
      "outputs": []
    },
    {
      "cell_type": "markdown",
      "source": [
        "## Main Interaction Loop"
      ],
      "metadata": {
        "id": "hqIz-8Z-W3IX"
      }
    },
    {
      "cell_type": "code",
      "source": [
        "def main():\n",
        "    \"\"\"Main interaction loop.\"\"\"\n",
        "    while True:\n",
        "        user_input = input(\"You: \")\n",
        "        if user_input.lower() == \"exit\":\n",
        "            print(\"Exiting...\")\n",
        "            break\n",
        "\n",
        "        response = chat_session.send_message(user_input)\n",
        "\n",
        "        try:\n",
        "            # Check if function call exists\n",
        "            function_call = response.candidates[0].content.parts[0].function_call\n",
        "            function_name = function_call.name\n",
        "            arguments = dict(function_call.args)\n",
        "\n",
        "            print(f\"DEBUG: Function '{function_name}' called with arguments {arguments}\")\n",
        "\n",
        "            if function_name == \"calculate\":\n",
        "                result = calculate(**arguments)\n",
        "                print(f\"Function Output: {result}\")\n",
        "                continue\n",
        "\n",
        "        except (AttributeError, TypeError) as e:\n",
        "            print(f\"Gemini: {response.text}\")"
      ],
      "metadata": {
        "id": "uOH-oyrbSbAD"
      },
      "execution_count": 8,
      "outputs": []
    },
    {
      "cell_type": "code",
      "source": [
        "if __name__ == \"__main__\":\n",
        "    main()"
      ],
      "metadata": {
        "id": "LXxDz-YSSdUC",
        "outputId": "7fe1f59f-f265-4db1-b4af-4a1de649f818",
        "colab": {
          "base_uri": "https://localhost:8080/",
          "height": 355
        }
      },
      "execution_count": null,
      "outputs": [
        {
          "output_type": "stream",
          "name": "stdout",
          "text": [
            "You: 1\n",
            "Gemini: This is not a valid query. Please provide an operation and two numbers.\n",
            "\n",
            "You: addition\n",
            "Gemini: This is not a valid query. Please specify two numbers and the operation as \"add\".\n",
            "\n",
            "You: add\n",
            "Gemini: This is not a valid query. Please specify two numbers and the operation as \"add\".\n",
            "\n",
            "You: calculate\n",
            "Gemini: This is not a valid query. Please specify two numbers and the operation as \"add\" or \"subtract\".\n",
            "\n",
            "You: add 2 10\n",
            "DEBUG: Function 'calculate' called with arguments {'num2': 10.0, 'operation': 'add', 'num1': 2.0}\n",
            "Function Output: 12.0\n",
            "You: sub 10 2\n",
            "DEBUG: Function 'calculate' called with arguments {'num2': 2.0, 'operation': 'subtract', 'num1': 10.0}\n",
            "Function Output: 8.0\n"
          ]
        }
      ]
    }
  ]
}